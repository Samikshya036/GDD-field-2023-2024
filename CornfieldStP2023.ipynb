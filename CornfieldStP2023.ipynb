{
 "cells": [
  {
   "cell_type": "code",
   "execution_count": 1,
   "id": "ae3128a7-5df1-40ce-8137-a9a6efc297a4",
   "metadata": {},
   "outputs": [],
   "source": [
    "#GDD calculation for corn from class CornGDD. \n",
    "import pandas as pd\n",
    "\n",
    "def fahrenheit_to_celsius(temp_f):\n",
    "    return (temp_f - 32) * 5 / 9\n",
    "\n",
    "def celsius_to_fahrenheit(temp_c):\n",
    "    return (temp_c * 9 / 5) + 32\n",
    "\n",
    "class CornGDD:\n",
    "    def __init__(self, daily_temp_df, time_column, min_temp_column, max_temp_column, celsius=True):\n",
    "        self.daily_temp_df = daily_temp_df\n",
    "        self.time_column = time_column\n",
    "        self.min_temp_column = min_temp_column\n",
    "        self.max_temp_column = max_temp_column\n",
    "        self.celsius = celsius\n",
    "\n",
    "        # Ensure the time column is of datetime type\n",
    "        self.daily_temp_df[self.time_column] = pd.to_datetime(self.daily_temp_df[self.time_column])\n",
    "\n",
    "        # If initial data is in Celsius, optionally convert it to Fahrenheit for uniform GDD calculation\n",
    "        if self.celsius:\n",
    "            self.daily_temp_df[self.min_temp_column] = self.daily_temp_df[self.min_temp_column].apply(celsius_to_fahrenheit)\n",
    "            self.daily_temp_df[self.max_temp_column] = self.daily_temp_df[self.max_temp_column].apply(celsius_to_fahrenheit)\n",
    "            self.celsius = False  # Now all data is in Fahrenheit\n",
    "\n",
    "    def con_gdd(self, start_date, end_date):\n",
    "        start_date = pd.Timestamp(start_date)\n",
    "        end_date = pd.Timestamp(end_date)\n",
    "\n",
    "        date_mask = (self.daily_temp_df[self.time_column] >= start_date) & (self.daily_temp_df[self.time_column] <= end_date)\n",
    "        masked_data = self.daily_temp_df.loc[date_mask].copy()\n",
    "\n",
    "        gdd_values = []\n",
    "        cumulative_gdd = 0\n",
    "\n",
    "        for index, row in masked_data.iterrows():\n",
    "            min_temp = max(row[self.min_temp_column], 50)  # Fahrenheit base\n",
    "            max_temp = min(row[self.max_temp_column], 86)  # Fahrenheit upper limit\n",
    "\n",
    "            mean_temp = (min_temp + max_temp) / 2\n",
    "            base_temp = 50  # Fahrenheit base temperature for GDD calculation\n",
    "            gdd = max(mean_temp - base_temp, 0)\n",
    "\n",
    "            gdd_values.append(gdd)\n",
    "            cumulative_gdd += gdd\n",
    "\n",
    "        masked_data['GDD'] = gdd_values\n",
    "        masked_data['Cumulative_GDD'] = masked_data['GDD'].cumsum()\n",
    "\n",
    "        return masked_data\n",
    "\n",
    "# This modified class converts temperatures to Fahrenheit if they start in Celsius, then computes and returns GDD in Fahrenheit.\n"
   ]
  },
  {
   "cell_type": "markdown",
   "id": "3c9ba480-7624-430f-9ca7-8595ca526b77",
   "metadata": {},
   "source": [
    "Import min/max temp for SaintPaul from Gridded GEMS exchange"
   ]
  },
  {
   "cell_type": "code",
   "execution_count": 2,
   "id": "982b83ff-5af7-453e-9cf1-29550ad55703",
   "metadata": {},
   "outputs": [],
   "source": [
    "import pandas as pd\n",
    "StPaul_GEMS = pd.read_csv(\"st_paul_gems_2023_2024.csv\", on_bad_lines='skip')"
   ]
  },
  {
   "cell_type": "code",
   "execution_count": 3,
   "id": "53132d36-cfc6-4d92-b028-ccbe5157a6fb",
   "metadata": {},
   "outputs": [],
   "source": [
    "StPaul_GEMS_2023 = CornGDD(StPaul_GEMS, time_column='datetime', min_temp_column='min_temp', max_temp_column='max_temp')"
   ]
  },
  {
   "cell_type": "code",
   "execution_count": 4,
   "id": "9dc78a2e-0be0-4ecb-97b1-6edf0d1e6d72",
   "metadata": {},
   "outputs": [],
   "source": [
    "#Using year 2024 start date and end date for mine gdd\n",
    "start_date = pd.to_datetime(\"5-11-2023\").date()\n",
    "end_date = pd.to_datetime(\"11-8-2023\").date()"
   ]
  },
  {
   "cell_type": "markdown",
   "id": "d5b46622-3849-435f-870a-c50dfe8f7e50",
   "metadata": {},
   "source": [
    "AGDD for StPaul corn 2023"
   ]
  },
  {
   "cell_type": "code",
   "execution_count": 5,
   "id": "a89be055-1f36-4c32-8ce3-be15bce24d36",
   "metadata": {},
   "outputs": [
    {
     "name": "stdout",
     "output_type": "stream",
     "text": [
      "     clouds   datetime  dewpt  dhi  dni  ghi  max_dhi  max_dni  max_ghi  \\\n",
      "130      88 2023-05-11   13.9   55  442  331      120      919      933   \n",
      "131      86 2023-05-12   13.8   55  444  332      120      919      935   \n",
      "132     100 2023-05-13   11.6   55  445  333      120      919      936   \n",
      "133      85 2023-05-14    8.4   55  446  335      121      920      938   \n",
      "134      42 2023-05-15    6.6   56  448  336      121      920      940   \n",
      "..      ...        ...    ...  ...  ...  ...      ...      ...      ...   \n",
      "307      46 2023-11-04   -1.5   29  250  118       94      793      478   \n",
      "308      75 2023-11-05    3.5   28  238  112       94      791      473   \n",
      "309      82 2023-11-06    4.4   28  247  115       94      789      468   \n",
      "310      99 2023-11-07    1.0   28  245  113       93      787      463   \n",
      "311      84 2023-11-08    2.2   28  244  112       93      784      458   \n",
      "\n",
      "     max_temp  ...  t_solar_rad  temp          ts  wind_dir  wind_gust_spd  \\\n",
      "130     75.92  ...         2162  20.6  1683781200       146            8.0   \n",
      "131     73.94  ...         2505  20.6  1683867600       112           15.4   \n",
      "132     68.00  ...         2029  17.4  1683954000        72           14.0   \n",
      "133     64.94  ...         2339  13.7  1684040400        91           11.3   \n",
      "134     73.94  ...         6752  17.0  1684126800       253            6.8   \n",
      "..        ...  ...          ...   ...         ...       ...            ...   \n",
      "307     51.08  ...         2820   4.2  1699074000       181            6.4   \n",
      "308     57.92  ...          690   9.4  1699160400       163           14.4   \n",
      "309     57.92  ...          908   9.0  1699250400       282           16.0   \n",
      "310     46.04  ...         1151   5.7  1699336800       140           13.9   \n",
      "311     50.00  ...         1281   7.4  1699423200       201           15.9   \n",
      "\n",
      "     wind_spd  latitude  longitude    GDD  Cumulative_GDD  \n",
      "130       3.3    44.993    -93.175  18.00           18.00  \n",
      "131       4.6    44.993    -93.175  19.44           37.44  \n",
      "132       5.4    44.993    -93.175  11.61           49.05  \n",
      "133       4.2    44.993    -93.175   7.47           56.52  \n",
      "134       2.3    44.993    -93.175  11.97           68.49  \n",
      "..        ...       ...        ...    ...             ...  \n",
      "307       1.7    44.993    -93.175   0.54         3276.00  \n",
      "308       3.5    44.993    -93.175   3.96         3279.96  \n",
      "309       5.8    44.993    -93.175   3.96         3283.92  \n",
      "310       4.6    44.993    -93.175   0.00         3283.92  \n",
      "311       4.6    44.993    -93.175   0.00         3283.92  \n",
      "\n",
      "[182 rows x 39 columns]\n"
     ]
    }
   ],
   "source": [
    "corn_gdd_StPaulGEMS = StPaul_GEMS_2023.con_gdd(start_date, end_date)\n",
    "print(corn_gdd_StPaulGEMS)"
   ]
  },
  {
   "cell_type": "code",
   "execution_count": null,
   "id": "4288920f-8259-4ea5-b462-3aac640e687c",
   "metadata": {},
   "outputs": [],
   "source": []
  }
 ],
 "metadata": {
  "kernelspec": {
   "display_name": "Python 3 (ipykernel)",
   "language": "python",
   "name": "python3"
  },
  "language_info": {
   "codemirror_mode": {
    "name": "ipython",
    "version": 3
   },
   "file_extension": ".py",
   "mimetype": "text/x-python",
   "name": "python",
   "nbconvert_exporter": "python",
   "pygments_lexer": "ipython3",
   "version": "3.9.7"
  }
 },
 "nbformat": 4,
 "nbformat_minor": 5
}
