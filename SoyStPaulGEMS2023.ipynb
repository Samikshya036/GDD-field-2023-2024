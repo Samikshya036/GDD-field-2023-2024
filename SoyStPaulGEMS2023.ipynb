{
 "cells": [
  {
   "cell_type": "code",
   "execution_count": 2,
   "id": "ccd1de63-9173-4dec-92c5-39e9751901e2",
   "metadata": {},
   "outputs": [],
   "source": [
    "#GDD calculation for Soy from class SoyGDD. \n",
    "import pandas as pd\n",
    "\n",
    "def fahrenheit_to_celsius(temp_f):\n",
    "    return (temp_f - 32) * 5 / 9\n",
    "\n",
    "def celsius_to_fahrenheit(temp_c):\n",
    "    return (temp_c * 9 / 5) + 32\n",
    "\n",
    "class SoyGDD:\n",
    "    def __init__(self, daily_temp_df, time_column, min_temp_column, max_temp_column, celsius=True):\n",
    "        self.daily_temp_df = daily_temp_df\n",
    "        self.time_column = time_column\n",
    "        self.min_temp_column = min_temp_column\n",
    "        self.max_temp_column = max_temp_column\n",
    "        self.celsius = celsius\n",
    "\n",
    "        # Ensure the time column is of datetime type\n",
    "        self.daily_temp_df[self.time_column] = pd.to_datetime(self.daily_temp_df[self.time_column])\n",
    "\n",
    "        # If initial data is in Celsius, optionally convert it to Fahrenheit for uniform GDD calculation\n",
    "        if self.celsius:\n",
    "            self.daily_temp_df[self.min_temp_column] = self.daily_temp_df[self.min_temp_column].apply(celsius_to_fahrenheit)\n",
    "            self.daily_temp_df[self.max_temp_column] = self.daily_temp_df[self.max_temp_column].apply(celsius_to_fahrenheit)\n",
    "            self.celsius = False  # Now all data is in Fahrenheit\n",
    "\n",
    "    def soy_gdd(self, start_date, end_date):\n",
    "        start_date = pd.Timestamp(start_date)\n",
    "        end_date = pd.Timestamp(end_date)\n",
    "\n",
    "        date_mask = (self.daily_temp_df[self.time_column] >= start_date) & (self.daily_temp_df[self.time_column] <= end_date)\n",
    "        masked_data = self.daily_temp_df.loc[date_mask].copy()\n",
    "\n",
    "        gdd_values = []\n",
    "        cumulative_gdd = 0\n",
    "\n",
    "        for index, row in masked_data.iterrows():\n",
    "            min_temp = max(row[self.min_temp_column], 50)  # Fahrenheit base\n",
    "            max_temp = min(row[self.max_temp_column], 86)  # Fahrenheit upper limit\n",
    "\n",
    "            mean_temp = (min_temp + max_temp) / 2\n",
    "            base_temp = 50  # Fahrenheit base temperature for GDD calculation\n",
    "            gdd = max(mean_temp - base_temp, 0)\n",
    "\n",
    "            gdd_values.append(gdd)\n",
    "            cumulative_gdd += gdd\n",
    "\n",
    "        masked_data['GDD'] = gdd_values\n",
    "        masked_data['Cumulative_GDD'] = masked_data['GDD'].cumsum()\n",
    "\n",
    "        return masked_data\n",
    "\n",
    "# This modified class converts temperatures to Fahrenheit if they start in Celsius, then computes and returns GDD in Fahrenheit.\n"
   ]
  },
  {
   "cell_type": "markdown",
   "id": "cd43c95c-6ce1-4fc1-831d-0daf15b3527e",
   "metadata": {},
   "source": [
    "Import min/max temperature from GEMS exchange"
   ]
  },
  {
   "cell_type": "code",
   "execution_count": 4,
   "id": "4643f4d8-94f5-4189-88fe-a9fa7aad0885",
   "metadata": {},
   "outputs": [],
   "source": [
    "import pandas as pd\n",
    "StPaul_GEMS = pd.read_csv(\"st_paul_gems_2023_2024.csv\", on_bad_lines='skip')"
   ]
  },
  {
   "cell_type": "code",
   "execution_count": 5,
   "id": "d160449d-bef8-4c65-b796-3a5d610d8f59",
   "metadata": {},
   "outputs": [],
   "source": [
    "StPaul_GEMS_2023 = SoyGDD(StPaul_GEMS, time_column='datetime', min_temp_column='min_temp', max_temp_column='max_temp')"
   ]
  },
  {
   "cell_type": "code",
   "execution_count": 6,
   "id": "0423dba5-e5c3-4a9a-9697-99aa47343bc5",
   "metadata": {},
   "outputs": [],
   "source": [
    "#Using year 2024 start date and end date for mine gdd\n",
    "start_date = pd.to_datetime(\"5-18-2023\").date()\n",
    "end_date = pd.to_datetime(\"10-20-2023\").date()"
   ]
  },
  {
   "cell_type": "markdown",
   "id": "b8362f9d-9cc6-42cc-8fdd-059e24905da1",
   "metadata": {},
   "source": [
    "Calculing 2023 Soy AGDD for StPaul"
   ]
  },
  {
   "cell_type": "code",
   "execution_count": 9,
   "id": "278fe6d9-3ef4-44a9-91bc-0ce6447470e9",
   "metadata": {},
   "outputs": [
    {
     "name": "stdout",
     "output_type": "stream",
     "text": [
      "     clouds   datetime  dewpt  dhi  dni  ghi  max_dhi  max_dni  max_ghi  \\\n",
      "137      70 2023-05-18    9.8   56  451  340      121      920      945   \n",
      "138      54 2023-05-19    3.3   56  452  341      121      920      946   \n",
      "139       9 2023-05-20    4.7   56  453  342      121      920      948   \n",
      "140      16 2023-05-21    6.3   56  454  343      121      920      949   \n",
      "141      27 2023-05-22    7.5   57  455  345      121      920      951   \n",
      "..      ...        ...    ...  ...  ...  ...      ...      ...      ...   \n",
      "288      19 2023-10-16    4.8   35  296  158      102      834      584   \n",
      "289      38 2023-10-17    4.3   35  293  156      101      832      578   \n",
      "290      70 2023-10-18    6.5   34  291  153      101      830      573   \n",
      "291      85 2023-10-19    8.5   34  288  151      101      828      567   \n",
      "292      25 2023-10-20    7.2   34  286  149      100      826      561   \n",
      "\n",
      "     max_temp  ...  t_solar_rad  temp          ts  wind_dir  wind_gust_spd  \\\n",
      "137     66.02  ...         4738  16.2  1684386000       219           13.2   \n",
      "138     60.08  ...         2753  11.4  1684472400       273           13.9   \n",
      "139     73.04  ...         8212  15.9  1684558800       262            8.0   \n",
      "140     78.08  ...         8242  19.2  1684645200       170            6.0   \n",
      "141     82.04  ...         8237  21.6  1684731600       157            8.8   \n",
      "..        ...  ...          ...   ...         ...       ...            ...   \n",
      "288     60.08  ...         3785   9.7  1697432400       285            6.0   \n",
      "289     64.04  ...         2748  11.4  1697518800       189            6.4   \n",
      "290     59.00  ...         1571  12.3  1697605200       210            8.8   \n",
      "291     60.98  ...         1676  11.7  1697691600       310            9.3   \n",
      "292     69.08  ...         3573  12.9  1697778000       223            7.7   \n",
      "\n",
      "     wind_spd  latitude  longitude    GDD  Cumulative_GDD  \n",
      "137       4.0    44.993    -93.175  11.52           11.52  \n",
      "138       5.4    44.993    -93.175   5.04           16.56  \n",
      "139       2.3    44.993    -93.175  11.52           28.08  \n",
      "140       2.2    44.993    -93.175  15.57           43.65  \n",
      "141       3.0    44.993    -93.175  19.98           63.63  \n",
      "..        ...       ...        ...    ...             ...  \n",
      "288       2.0    44.993    -93.175   5.04         3119.40  \n",
      "289       1.7    44.993    -93.175   7.02         3126.42  \n",
      "290       3.0    44.993    -93.175   5.04         3131.46  \n",
      "291       3.5    44.993    -93.175   5.49         3136.95  \n",
      "292       2.1    44.993    -93.175   9.54         3146.49  \n",
      "\n",
      "[156 rows x 39 columns]\n"
     ]
    }
   ],
   "source": [
    "Soy_gdd_StPaulGEMS2023 = StPaul_GEMS_2023.soy_gdd(start_date, end_date)\n",
    "print(Soy_gdd_StPaulGEMS2023)"
   ]
  },
  {
   "cell_type": "code",
   "execution_count": null,
   "id": "8ffe4fc5-d508-4878-9c84-c9f5a3bc2f97",
   "metadata": {},
   "outputs": [],
   "source": []
  }
 ],
 "metadata": {
  "kernelspec": {
   "display_name": "Python 3 (ipykernel)",
   "language": "python",
   "name": "python3"
  },
  "language_info": {
   "codemirror_mode": {
    "name": "ipython",
    "version": 3
   },
   "file_extension": ".py",
   "mimetype": "text/x-python",
   "name": "python",
   "nbconvert_exporter": "python",
   "pygments_lexer": "ipython3",
   "version": "3.9.7"
  }
 },
 "nbformat": 4,
 "nbformat_minor": 5
}
