{
 "cells": [
  {
   "cell_type": "code",
   "execution_count": 1,
   "id": "212a0da8-03ac-4fd8-9178-9af88b60272e",
   "metadata": {},
   "outputs": [],
   "source": [
    "#GDD calculation for Soy from class SoyGDD. \n",
    "import pandas as pd\n",
    "\n",
    "def fahrenheit_to_celsius(temp_f):\n",
    "    return (temp_f - 32) * 5 / 9\n",
    "\n",
    "def celsius_to_fahrenheit(temp_c):\n",
    "    return (temp_c * 9 / 5) + 32\n",
    "\n",
    "class SoyGDD:\n",
    "    def __init__(self, daily_temp_df, time_column, min_temp_column, max_temp_column, celsius=True):\n",
    "        self.daily_temp_df = daily_temp_df\n",
    "        self.time_column = time_column\n",
    "        self.min_temp_column = min_temp_column\n",
    "        self.max_temp_column = max_temp_column\n",
    "        self.celsius = celsius\n",
    "\n",
    "        # Ensure the time column is of datetime type\n",
    "        self.daily_temp_df[self.time_column] = pd.to_datetime(self.daily_temp_df[self.time_column])\n",
    "\n",
    "        # If initial data is in Celsius, optionally convert it to Fahrenheit for uniform GDD calculation\n",
    "        if self.celsius:\n",
    "            self.daily_temp_df[self.min_temp_column] = self.daily_temp_df[self.min_temp_column].apply(celsius_to_fahrenheit)\n",
    "            self.daily_temp_df[self.max_temp_column] = self.daily_temp_df[self.max_temp_column].apply(celsius_to_fahrenheit)\n",
    "            self.celsius = False  # Now all data is in Fahrenheit\n",
    "\n",
    "    def soy_gdd(self, start_date, end_date):\n",
    "        start_date = pd.Timestamp(start_date)\n",
    "        end_date = pd.Timestamp(end_date)\n",
    "\n",
    "        date_mask = (self.daily_temp_df[self.time_column] >= start_date) & (self.daily_temp_df[self.time_column] <= end_date)\n",
    "        masked_data = self.daily_temp_df.loc[date_mask].copy()\n",
    "\n",
    "        gdd_values = []\n",
    "        cumulative_gdd = 0\n",
    "\n",
    "        for index, row in masked_data.iterrows():\n",
    "            min_temp = max(row[self.min_temp_column], 50)  # Fahrenheit base\n",
    "            max_temp = min(row[self.max_temp_column], 86)  # Fahrenheit upper limit\n",
    "\n",
    "            mean_temp = (min_temp + max_temp) / 2\n",
    "            base_temp = 50  # Fahrenheit base temperature for GDD calculation\n",
    "            gdd = max(mean_temp - base_temp, 0)\n",
    "\n",
    "            gdd_values.append(gdd)\n",
    "            cumulative_gdd += gdd\n",
    "\n",
    "        masked_data['GDD'] = gdd_values\n",
    "        masked_data['Cumulative_GDD'] = masked_data['GDD'].cumsum()\n",
    "\n",
    "        return masked_data\n",
    "\n",
    "# This modified class converts temperatures to Fahrenheit if they start in Celsius, then computes and returns GDD in Fahrenheit.\n"
   ]
  },
  {
   "cell_type": "code",
   "execution_count": null,
   "id": "136e04a4-f4da-41df-8211-c72f60594415",
   "metadata": {},
   "outputs": [],
   "source": [
    "Im"
   ]
  },
  {
   "cell_type": "code",
   "execution_count": 8,
   "id": "56868042-45e7-4bc9-8a71-f9a71225aced",
   "metadata": {},
   "outputs": [],
   "source": [
    "import pandas as pd\n",
    "StPaul_GEMS = pd.read_csv(\"st_paul_gems_2023_2024.csv\", on_bad_lines='skip')"
   ]
  },
  {
   "cell_type": "code",
   "execution_count": 9,
   "id": "ab2fcf6b-6daf-482f-addc-fd5f300e67bf",
   "metadata": {},
   "outputs": [],
   "source": [
    "StPaul_GEMS_2024 = SoyGDD(StPaul_GEMS, time_column='datetime', min_temp_column='min_temp', max_temp_column='max_temp')"
   ]
  },
  {
   "cell_type": "code",
   "execution_count": 12,
   "id": "a2cb9586-5a4d-4346-bf70-378eeedf5063",
   "metadata": {},
   "outputs": [],
   "source": [
    "#Using year 2024 start date and end date for mine gdd\n",
    "start_date = pd.to_datetime(\"6-4-2024\").date()\n",
    "end_date = pd.to_datetime(\"11-3-2024\").date()"
   ]
  },
  {
   "cell_type": "code",
   "execution_count": 13,
   "id": "cfa130a0-2ff6-4d09-b1b0-f33ffcba995c",
   "metadata": {},
   "outputs": [
    {
     "name": "stdout",
     "output_type": "stream",
     "text": [
      "     clouds   datetime  dewpt  dhi  dni  ghi  max_dhi  max_dni  max_ghi  \\\n",
      "520      50 2024-06-04   17.8   58  464  355      121      920      963   \n",
      "521      36 2024-06-05   10.1   58  464  356      121      920      963   \n",
      "522      57 2024-06-06    7.3   58  465  356      121      919      964   \n",
      "523      29 2024-06-07    6.4   58  465  357      121      919      964   \n",
      "524      55 2024-06-08    8.9   58  465  357      121      919      965   \n",
      "..      ...        ...    ...  ...  ...  ...      ...      ...      ...   \n",
      "668      97 2024-10-30    9.2   30  260  128       96      805      505   \n",
      "669      93 2024-10-31    2.0   30  257  126       96      802      499   \n",
      "670      42 2024-11-01   -0.6   30  255  124       96      800      494   \n",
      "671      62 2024-11-02    2.8   29  253  122       95      798      488   \n",
      "672      98 2024-11-03    6.5   28  241  115       95      796      483   \n",
      "\n",
      "     max_temp  ...  t_solar_rad  temp          ts  wind_dir  wind_gust_spd  \\\n",
      "520     84.92  ...         5528  23.0  1717477200       194           16.5   \n",
      "521     78.08  ...         7103  19.4  1717563600       249           23.0   \n",
      "522     71.06  ...         5243  18.6  1717650000       291           18.7   \n",
      "523     77.00  ...         8509  20.3  1717736400       263           10.3   \n",
      "524     77.00  ...         8126  19.5  1717822800       222           11.2   \n",
      "..        ...  ...          ...   ...         ...       ...            ...   \n",
      "668     75.92  ...          747  14.8  1730264400       201           13.4   \n",
      "669     48.02  ...          318   3.9  1730350800       220           16.8   \n",
      "670     44.96  ...         1387   3.5  1730437200       173           10.8   \n",
      "671     55.94  ...         1569   8.6  1730523600       149            8.8   \n",
      "672     48.92  ...          517   8.9  1730610000       125           12.7   \n",
      "\n",
      "     wind_spd  latitude  longitude    GDD  Cumulative_GDD  \n",
      "520       5.5    44.993    -93.175  22.59           22.59  \n",
      "521       5.7    44.993    -93.175  17.55           40.14  \n",
      "522       7.7    44.993    -93.175  16.02           56.16  \n",
      "523       4.0    44.993    -93.175  17.46           73.62  \n",
      "524       3.6    44.993    -93.175  17.46           91.08  \n",
      "..        ...       ...        ...    ...             ...  \n",
      "668       5.9    44.993    -93.175  12.96         2823.84  \n",
      "669       6.7    44.993    -93.175   0.00         2823.84  \n",
      "670       2.6    44.993    -93.175   0.00         2823.84  \n",
      "671       3.6    44.993    -93.175   2.97         2826.81  \n",
      "672       5.6    44.993    -93.175   0.00         2826.81  \n",
      "\n",
      "[153 rows x 39 columns]\n"
     ]
    }
   ],
   "source": [
    "Soy_gdd_StPaulGEMS2024 = StPaul_GEMS_2024.soy_gdd(start_date, end_date)\n",
    "print(Soy_gdd_StPaulGEMS2024)"
   ]
  },
  {
   "cell_type": "code",
   "execution_count": null,
   "id": "f5acd799-6543-4ced-a44f-7f195abc943c",
   "metadata": {},
   "outputs": [],
   "source": []
  },
  {
   "cell_type": "code",
   "execution_count": null,
   "id": "095c61ca-c37c-4f7f-ab1b-5f74bcf8c666",
   "metadata": {},
   "outputs": [],
   "source": []
  }
 ],
 "metadata": {
  "kernelspec": {
   "display_name": "Python 3 (ipykernel)",
   "language": "python",
   "name": "python3"
  },
  "language_info": {
   "codemirror_mode": {
    "name": "ipython",
    "version": 3
   },
   "file_extension": ".py",
   "mimetype": "text/x-python",
   "name": "python",
   "nbconvert_exporter": "python",
   "pygments_lexer": "ipython3",
   "version": "3.9.7"
  }
 },
 "nbformat": 4,
 "nbformat_minor": 5
}
