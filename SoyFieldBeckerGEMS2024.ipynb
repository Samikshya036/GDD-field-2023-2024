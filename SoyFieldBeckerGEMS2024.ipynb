{
 "cells": [
  {
   "cell_type": "code",
   "execution_count": 1,
   "id": "781e6b79-9924-4330-8d87-4913c71d6461",
   "metadata": {},
   "outputs": [],
   "source": [
    "#GDD calculation for Soy from class Soy GDD. \n",
    "import pandas as pd\n",
    "\n",
    "def fahrenheit_to_celsius(temp_f):\n",
    "    return (temp_f - 32) * 5 / 9\n",
    "\n",
    "def celsius_to_fahrenheit(temp_c):\n",
    "    return (temp_c * 9 / 5) + 32\n",
    "\n",
    "class SoyGDD:\n",
    "    def __init__(self, daily_temp_df, time_column, min_temp_column, max_temp_column, celsius=True):\n",
    "        self.daily_temp_df = daily_temp_df\n",
    "        self.time_column = time_column\n",
    "        self.min_temp_column = min_temp_column\n",
    "        self.max_temp_column = max_temp_column\n",
    "        self.celsius = celsius\n",
    "\n",
    "        # Ensure the time column is of datetime type\n",
    "        self.daily_temp_df[self.time_column] = pd.to_datetime(self.daily_temp_df[self.time_column])\n",
    "\n",
    "        # If initial data is in Celsius, optionally convert it to Fahrenheit for uniform GDD calculation\n",
    "        if self.celsius:\n",
    "            self.daily_temp_df[self.min_temp_column] = self.daily_temp_df[self.min_temp_column].apply(celsius_to_fahrenheit)\n",
    "            self.daily_temp_df[self.max_temp_column] = self.daily_temp_df[self.max_temp_column].apply(celsius_to_fahrenheit)\n",
    "            self.celsius = False  # Now all data is in Fahrenheit\n",
    "\n",
    "    def soy_gdd(self, start_date, end_date):\n",
    "        start_date = pd.Timestamp(start_date)\n",
    "        end_date = pd.Timestamp(end_date)\n",
    "\n",
    "        date_mask = (self.daily_temp_df[self.time_column] >= start_date) & (self.daily_temp_df[self.time_column] <= end_date)\n",
    "        masked_data = self.daily_temp_df.loc[date_mask].copy()\n",
    "\n",
    "        gdd_values = []\n",
    "        cumulative_gdd = 0\n",
    "\n",
    "        for index, row in masked_data.iterrows():\n",
    "            min_temp = max(row[self.min_temp_column], 50)  # Fahrenheit base\n",
    "            max_temp = min(row[self.max_temp_column], 86)  # Fahrenheit upper limit\n",
    "\n",
    "            mean_temp = (min_temp + max_temp) / 2\n",
    "            base_temp = 50  # Fahrenheit base temperature for GDD calculation\n",
    "            gdd = max(mean_temp - base_temp, 0)\n",
    "\n",
    "            gdd_values.append(gdd)\n",
    "            cumulative_gdd += gdd\n",
    "\n",
    "        masked_data['GDD'] = gdd_values\n",
    "        masked_data['Cumulative_GDD'] = masked_data['GDD'].cumsum()\n",
    "\n",
    "        return masked_data\n",
    "\n",
    "# This modified class converts temperatures to Fahrenheit if they start in Celsius, then computes and returns GDD in Fahrenheit.\n"
   ]
  },
  {
   "cell_type": "markdown",
   "id": "c68d6a52-6f7d-48be-ab32-6b583c31f6fa",
   "metadata": {},
   "source": [
    "import csv file with Min/Max temperature for Becker farm"
   ]
  },
  {
   "cell_type": "code",
   "execution_count": 6,
   "id": "8eea56bf-5383-4e12-b458-331b292c81a2",
   "metadata": {},
   "outputs": [],
   "source": [
    "import pandas as pd\n",
    "Becker_GEMS = pd.read_csv(\"becker_gems_2023_2024.csv\", on_bad_lines='skip')"
   ]
  },
  {
   "cell_type": "code",
   "execution_count": 7,
   "id": "34b8f5f1-bdad-4bab-84ab-74e603fde60a",
   "metadata": {},
   "outputs": [],
   "source": [
    "Becker_GEMS_2024 = SoyGDD(Becker_GEMS, time_column='datetime', min_temp_column='min_temp', max_temp_column='max_temp')"
   ]
  },
  {
   "cell_type": "code",
   "execution_count": 8,
   "id": "4680e547-0b22-4b00-a986-eb65609daa6f",
   "metadata": {},
   "outputs": [],
   "source": [
    "#Using year 2024 start date and end date for mine gdd\n",
    "start_date = pd.to_datetime(\"5-8-2024\").date()\n",
    "end_date = pd.to_datetime(\"9-17-2024\").date()"
   ]
  },
  {
   "cell_type": "markdown",
   "id": "66a55c6c-4400-44b4-9f07-87882bcb9093",
   "metadata": {},
   "source": [
    "Calculating Soy AGDD Becker 2024"
   ]
  },
  {
   "cell_type": "code",
   "execution_count": 9,
   "id": "f71e2e12-88cb-47cd-86fb-2679bc8f42f5",
   "metadata": {},
   "outputs": [
    {
     "name": "stdout",
     "output_type": "stream",
     "text": [
      "     clouds   datetime  dewpt  dhi  dni  ghi  max_dhi  max_dni  max_ghi  \\\n",
      "493      11 2024-05-08    3.8   54  438  326      120      918      923   \n",
      "494       7 2024-05-09    2.4   54  440  327      120      918      925   \n",
      "495      21 2024-05-10    2.6   55  441  329      120      919      927   \n",
      "496       0 2024-05-11    1.4   55  443  330      120      919      929   \n",
      "497       0 2024-05-12    4.1   55  444  332      120      919      931   \n",
      "..      ...        ...    ...  ...  ...  ...      ...      ...      ...   \n",
      "621       0 2024-09-13   14.1   44  363  236      112      882      761   \n",
      "622      69 2024-09-14   16.9   44  360  234      111      881      756   \n",
      "623      41 2024-09-15   18.4   43  358  231      111      880      751   \n",
      "624       9 2024-09-16   17.4   43  356  229      111      879      746   \n",
      "625       2 2024-09-17   16.1   43  354  226      111      878      741   \n",
      "\n",
      "     max_temp  ...  t_solar_rad  temp          ts  wind_dir  wind_gust_spd  \\\n",
      "493     74.66  ...         7627  14.1  1715144400       100           11.6   \n",
      "494     66.20  ...         7849  13.4  1715230800        44            9.6   \n",
      "495     72.50  ...         7413  13.7  1715317200       226           12.6   \n",
      "496     76.10  ...         7909  16.5  1715403600       250            6.8   \n",
      "497     83.12  ...         7937  21.2  1715490000       259           10.6   \n",
      "..        ...  ...          ...   ...         ...       ...            ...   \n",
      "621     83.66  ...         5621  22.2  1726203600       129           10.0   \n",
      "622     76.46  ...         3115  20.5  1726290000       155            8.8   \n",
      "623     85.82  ...         5462  23.7  1726376400       167            9.6   \n",
      "624     86.54  ...         4076  24.5  1726462800       161            9.2   \n",
      "625     86.18  ...         5368  24.7  1726549200       167           10.0   \n",
      "\n",
      "     wind_spd  latitude  longitude    GDD  Cumulative_GDD  \n",
      "493       2.9    45.344    -93.852  12.33           12.33  \n",
      "494       4.0    45.344    -93.852   8.10           20.43  \n",
      "495       3.8    45.344    -93.852  11.25           31.68  \n",
      "496       1.7    45.344    -93.852  13.05           44.73  \n",
      "497       3.5    45.344    -93.852  19.98           64.71  \n",
      "..        ...       ...        ...    ...             ...  \n",
      "621       1.7    45.344    -93.852  22.32         2334.51  \n",
      "622       1.8    45.344    -93.852  17.91         2352.42  \n",
      "623       2.3    45.344    -93.852  26.46         2378.88  \n",
      "624       2.1    45.344    -93.852  26.73         2405.61  \n",
      "625       3.1    45.344    -93.852  27.99         2433.60  \n",
      "\n",
      "[133 rows x 39 columns]\n"
     ]
    }
   ],
   "source": [
    "Soy_gdd_BeckerGEMS2024 = Becker_GEMS_2024.soy_gdd(start_date, end_date)\n",
    "print(Soy_gdd_BeckerGEMS2024)"
   ]
  },
  {
   "cell_type": "code",
   "execution_count": null,
   "id": "45e6eb2f-60a7-436e-b20f-f12425c52f4b",
   "metadata": {},
   "outputs": [],
   "source": []
  }
 ],
 "metadata": {
  "kernelspec": {
   "display_name": "Python 3 (ipykernel)",
   "language": "python",
   "name": "python3"
  },
  "language_info": {
   "codemirror_mode": {
    "name": "ipython",
    "version": 3
   },
   "file_extension": ".py",
   "mimetype": "text/x-python",
   "name": "python",
   "nbconvert_exporter": "python",
   "pygments_lexer": "ipython3",
   "version": "3.9.7"
  }
 },
 "nbformat": 4,
 "nbformat_minor": 5
}
