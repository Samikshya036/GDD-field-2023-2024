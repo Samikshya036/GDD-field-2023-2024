{
 "cells": [
  {
   "cell_type": "code",
   "execution_count": 11,
   "id": "5b0e66b3-27c3-4f35-93e1-f90d202a7b72",
   "metadata": {},
   "outputs": [],
   "source": [
    "#GDD calculation for Soy from class SoyGDD. \n",
    "import pandas as pd\n",
    "\n",
    "def fahrenheit_to_celsius(temp_f):\n",
    "    return (temp_f - 32) * 5 / 9\n",
    "\n",
    "def celsius_to_fahrenheit(temp_c):\n",
    "    return (temp_c * 9 / 5) + 32\n",
    "\n",
    "class SoyGDD:\n",
    "    def __init__(self, daily_temp_df, time_column, min_temp_column, max_temp_column, celsius=True):\n",
    "        self.daily_temp_df = daily_temp_df\n",
    "        self.time_column = time_column\n",
    "        self.min_temp_column = min_temp_column\n",
    "        self.max_temp_column = max_temp_column\n",
    "        self.celsius = celsius\n",
    "\n",
    "        # Ensure the time column is of datetime type\n",
    "        self.daily_temp_df[self.time_column] = pd.to_datetime(self.daily_temp_df[self.time_column])\n",
    "\n",
    "        # If initial data is in Celsius, optionally convert it to Fahrenheit for uniform GDD calculation\n",
    "        if self.celsius:\n",
    "            self.daily_temp_df[self.min_temp_column] = self.daily_temp_df[self.min_temp_column].apply(celsius_to_fahrenheit)\n",
    "            self.daily_temp_df[self.max_temp_column] = self.daily_temp_df[self.max_temp_column].apply(celsius_to_fahrenheit)\n",
    "            self.celsius = False  # Now all data is in Fahrenheit\n",
    "\n",
    "    def soy_gdd(self, start_date, end_date):\n",
    "        start_date = pd.Timestamp(start_date)\n",
    "        end_date = pd.Timestamp(end_date)\n",
    "\n",
    "        date_mask = (self.daily_temp_df[self.time_column] >= start_date) & (self.daily_temp_df[self.time_column] <= end_date)\n",
    "        masked_data = self.daily_temp_df.loc[date_mask].copy()\n",
    "\n",
    "        gdd_values = []\n",
    "        cumulative_gdd = 0\n",
    "\n",
    "        for index, row in masked_data.iterrows():\n",
    "            min_temp = max(row[self.min_temp_column], 50)  # Fahrenheit base\n",
    "            max_temp = min(row[self.max_temp_column], 86)  # Fahrenheit upper limit\n",
    "\n",
    "            mean_temp = (min_temp + max_temp) / 2\n",
    "            base_temp = 50  # Fahrenheit base temperature for GDD calculation\n",
    "            gdd = max(mean_temp - base_temp, 0)\n",
    "\n",
    "            gdd_values.append(gdd)\n",
    "            cumulative_gdd += gdd\n",
    "\n",
    "        masked_data['GDD'] = gdd_values\n",
    "        masked_data['Cumulative_GDD'] = masked_data['GDD'].cumsum()\n",
    "\n",
    "        return masked_data\n",
    "\n",
    "# This modified class converts temperatures to Fahrenheit if they start in Celsius, then computes and returns GDD in Fahrenheit.\n"
   ]
  },
  {
   "cell_type": "markdown",
   "id": "37ed1fc0-28e8-4c6f-91dd-2691a6f95496",
   "metadata": {},
   "source": [
    "Min/Max temp to calculate GDD from GEMS exchange"
   ]
  },
  {
   "cell_type": "code",
   "execution_count": 12,
   "id": "c54d8367-cb46-44ba-8a42-0c2482cc3cfc",
   "metadata": {},
   "outputs": [],
   "source": [
    "import pandas as pd\n",
    "Becker_GEMS = pd.read_csv(\"becker_gems_2023_2024.csv\", on_bad_lines='skip')"
   ]
  },
  {
   "cell_type": "code",
   "execution_count": 13,
   "id": "b4a0b11f-c6a1-437d-a54b-cc3ada258732",
   "metadata": {},
   "outputs": [],
   "source": [
    "Becker_GEMS_2023 = SoyGDD(Becker_GEMS, time_column='datetime', min_temp_column='min_temp', max_temp_column='max_temp')"
   ]
  },
  {
   "cell_type": "code",
   "execution_count": 14,
   "id": "56e87c1b-0844-4288-bc9e-fb103b1dcb45",
   "metadata": {},
   "outputs": [],
   "source": [
    "#Using year 2023 start date and end date for mine gdd\n",
    "start_date = pd.to_datetime(\"5-10-2023\").date()\n",
    "end_date = pd.to_datetime(\"10-9-2023\").date()"
   ]
  },
  {
   "cell_type": "markdown",
   "id": "f7c71817-79dd-4337-8c96-4534c551bec3",
   "metadata": {},
   "source": [
    "Soy AGDD for Becker 2023"
   ]
  },
  {
   "cell_type": "code",
   "execution_count": 16,
   "id": "23d176f1-b035-406c-8e54-1ca07d8fc34b",
   "metadata": {},
   "outputs": [
    {
     "name": "stdout",
     "output_type": "stream",
     "text": [
      "     clouds   datetime  dewpt  dhi  dni  ghi  max_dhi  max_dni  max_ghi  \\\n",
      "129      15 2023-05-10   11.8   55  441  329      120      919      927   \n",
      "130      51 2023-05-11   13.2   55  443  330      120      919      929   \n",
      "131      93 2023-05-12   15.3   55  444  332      120      919      931   \n",
      "132     100 2023-05-13   11.2   55  445  333      120      919      933   \n",
      "133      33 2023-05-14    5.3   55  447  334      120      919      935   \n",
      "..      ...        ...    ...  ...  ...  ...      ...      ...      ...   \n",
      "277      50 2023-10-05    6.3   38  318  182      105      852      643   \n",
      "278      71 2023-10-06    3.0   37  316  180      105      851      637   \n",
      "279      85 2023-10-07    2.2   37  314  178      105      849      631   \n",
      "280      72 2023-10-08    2.1   37  312  175      104      847      625   \n",
      "281       0 2023-10-09    0.0   37  310  173      104      845      619   \n",
      "\n",
      "     max_temp  ...  t_solar_rad  temp          ts  wind_dir  wind_gust_spd  \\\n",
      "129     77.54  ...         3178  19.5  1683694800       121            8.8   \n",
      "130     77.18  ...         2084  20.6  1683781200       118            8.0   \n",
      "131     71.96  ...         2960  19.0  1683867600        86           10.8   \n",
      "132     68.54  ...         2027  15.9  1683954000        60           10.6   \n",
      "133     68.90  ...         3124  14.3  1684040400        84           10.0   \n",
      "..        ...  ...          ...   ...         ...       ...            ...   \n",
      "277     61.70  ...         4265  13.1  1696482000       249           12.0   \n",
      "278     55.40  ...         2656   9.3  1696568400       293           11.6   \n",
      "279     50.72  ...         1243   8.2  1696654800       255            9.2   \n",
      "280     59.18  ...         4106  10.2  1696741200       128            7.6   \n",
      "281     55.76  ...         4141   7.3  1696827600       307            8.9   \n",
      "\n",
      "     wind_spd  latitude  longitude    GDD  Cumulative_GDD  \n",
      "129       1.5    45.344    -93.852  17.01           17.01  \n",
      "130       1.8    45.344    -93.852  19.62           36.63  \n",
      "131       2.7    45.344    -93.852  16.47           53.10  \n",
      "132       5.1    45.344    -93.852  10.17           63.27  \n",
      "133       3.2    45.344    -93.852   9.45           72.72  \n",
      "..        ...       ...        ...    ...             ...  \n",
      "277       3.7    45.344    -93.852   6.03         2865.60  \n",
      "278       4.9    45.344    -93.852   2.70         2868.30  \n",
      "279       2.1    45.344    -93.852   0.36         2868.66  \n",
      "280       2.2    45.344    -93.852   4.59         2873.25  \n",
      "281       2.5    45.344    -93.852   2.88         2876.13  \n",
      "\n",
      "[153 rows x 39 columns]\n"
     ]
    }
   ],
   "source": [
    "Soy_gdd_BeckerGEMS2023 = Becker_GEMS_2023.soy_gdd(start_date, end_date)\n",
    "print(Soy_gdd_BeckerGEMS2023)"
   ]
  }
 ],
 "metadata": {
  "kernelspec": {
   "display_name": "Python 3 (ipykernel)",
   "language": "python",
   "name": "python3"
  },
  "language_info": {
   "codemirror_mode": {
    "name": "ipython",
    "version": 3
   },
   "file_extension": ".py",
   "mimetype": "text/x-python",
   "name": "python",
   "nbconvert_exporter": "python",
   "pygments_lexer": "ipython3",
   "version": "3.9.7"
  }
 },
 "nbformat": 4,
 "nbformat_minor": 5
}
