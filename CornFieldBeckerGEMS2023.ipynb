{
 "cells": [
  {
   "cell_type": "code",
   "execution_count": 6,
   "id": "982e62df-d534-4c42-9da7-cdbe6ed7ff0d",
   "metadata": {},
   "outputs": [],
   "source": [
    "#GDD calculation for corn from class CornGDD 2023. \n",
    "import pandas as pd\n",
    "\n",
    "def fahrenheit_to_celsius(temp_f):\n",
    "    return (temp_f - 32) * 5 / 9\n",
    "\n",
    "def celsius_to_fahrenheit(temp_c):\n",
    "    return (temp_c * 9 / 5) + 32\n",
    "\n",
    "class CornGDD:\n",
    "    def __init__(self, daily_temp_df, time_column, min_temp_column, max_temp_column, celsius=True):\n",
    "        self.daily_temp_df = daily_temp_df\n",
    "        self.time_column = time_column\n",
    "        self.min_temp_column = min_temp_column\n",
    "        self.max_temp_column = max_temp_column\n",
    "        self.celsius = celsius\n",
    "\n",
    "        # Ensure the time column is of datetime type\n",
    "        self.daily_temp_df[self.time_column] = pd.to_datetime(self.daily_temp_df[self.time_column])\n",
    "\n",
    "        # If initial data is in Celsius, optionally convert it to Fahrenheit for uniform GDD calculation\n",
    "        if self.celsius:\n",
    "            self.daily_temp_df[self.min_temp_column] = self.daily_temp_df[self.min_temp_column].apply(celsius_to_fahrenheit)\n",
    "            self.daily_temp_df[self.max_temp_column] = self.daily_temp_df[self.max_temp_column].apply(celsius_to_fahrenheit)\n",
    "            self.celsius = False  # Now all data is in Fahrenheit\n",
    "\n",
    "    def con_gdd(self, start_date, end_date):\n",
    "        start_date = pd.Timestamp(start_date)\n",
    "        end_date = pd.Timestamp(end_date)\n",
    "\n",
    "        date_mask = (self.daily_temp_df[self.time_column] >= start_date) & (self.daily_temp_df[self.time_column] <= end_date)\n",
    "        masked_data = self.daily_temp_df.loc[date_mask].copy()\n",
    "\n",
    "        gdd_values = []\n",
    "        cumulative_gdd = 0\n",
    "\n",
    "        for index, row in masked_data.iterrows():\n",
    "            min_temp = max(row[self.min_temp_column], 50)  # Fahrenheit base\n",
    "            max_temp = min(row[self.max_temp_column], 86)  # Fahrenheit upper limit\n",
    "\n",
    "            mean_temp = (min_temp + max_temp) / 2\n",
    "            base_temp = 50  # Fahrenheit base temperature for GDD calculation\n",
    "            gdd = max(mean_temp - base_temp, 0)\n",
    "\n",
    "            gdd_values.append(gdd)\n",
    "            cumulative_gdd += gdd\n",
    "\n",
    "        masked_data['GDD'] = gdd_values\n",
    "        masked_data['Cumulative_GDD'] = masked_data['GDD'].cumsum()\n",
    "\n",
    "        return masked_data\n",
    "\n",
    "# This modified class converts temperatures to Fahrenheit if they start in Celsius, then computes and returns GDD in Fahrenheit.\n"
   ]
  },
  {
   "cell_type": "markdown",
   "id": "dbef8621-6798-4127-bfa7-cdc3bdbf4979",
   "metadata": {},
   "source": [
    "GDD for corn Becker 2023"
   ]
  },
  {
   "cell_type": "code",
   "execution_count": 7,
   "id": "95d4127f-73ae-4ac6-8d2d-082d045f203c",
   "metadata": {},
   "outputs": [],
   "source": [
    "import pandas as pd\n",
    "Becker_GEMS = pd.read_csv(\"becker_gems_2023_2024.csv\", on_bad_lines='skip')"
   ]
  },
  {
   "cell_type": "code",
   "execution_count": 8,
   "id": "0498c311-f1a8-4b51-af38-ad8d1ec497d6",
   "metadata": {},
   "outputs": [],
   "source": [
    "Becker_GEMS_2023 = CornGDD(Becker_GEMS, time_column='datetime', min_temp_column='min_temp', max_temp_column='max_temp')"
   ]
  },
  {
   "cell_type": "code",
   "execution_count": 9,
   "id": "82e8d8d0-711a-494a-9461-646e7fa3da66",
   "metadata": {},
   "outputs": [],
   "source": [
    "#Using year 2023 start date and end date for mine gdd\n",
    "start_date = pd.to_datetime(\"5-17-2023\").date()\n",
    "end_date = pd.to_datetime(\"9-15-2023\").date()"
   ]
  },
  {
   "cell_type": "markdown",
   "id": "d40690dc-4a8d-42f3-ae66-55d5d541a9d7",
   "metadata": {},
   "source": [
    "Cumulative GDD results for Corn Becker 2023"
   ]
  },
  {
   "cell_type": "code",
   "execution_count": 10,
   "id": "9edcf875-eb08-47c3-9ab8-fa2470b86fc7",
   "metadata": {},
   "outputs": [
    {
     "name": "stdout",
     "output_type": "stream",
     "text": [
      "     clouds   datetime  dewpt  dhi  dni  ghi  max_dhi  max_dni  max_ghi  \\\n",
      "136      15 2023-05-17    7.5   56  450  338      120      919      940   \n",
      "137      73 2023-05-18    8.0   56  452  340      120      919      941   \n",
      "138      21 2023-05-19    2.8   56  453  341      120      919      943   \n",
      "139       1 2023-05-20    3.6   56  454  342      120      920      944   \n",
      "140       0 2023-05-21    4.7   56  455  343      121      920      946   \n",
      "..      ...        ...    ...  ...  ...  ...      ...      ...      ...   \n",
      "253      31 2023-09-11    8.6   45  367  241      112      884      771   \n",
      "254      62 2023-09-12    9.3   44  365  238      112      883      766   \n",
      "255      11 2023-09-13    5.8   44  363  236      112      882      761   \n",
      "256      36 2023-09-14    9.3   44  360  234      111      881      756   \n",
      "257      48 2023-09-15   11.7   43  358  231      111      880      751   \n",
      "\n",
      "     max_temp  ...  t_solar_rad  temp          ts  wind_dir  wind_gust_spd  \\\n",
      "136     70.16  ...         7151  15.9  1684299600       109           10.8   \n",
      "137     70.34  ...         5487  16.2  1684386000       226           13.2   \n",
      "138     61.16  ...         2585  10.4  1684472400       258           11.6   \n",
      "139     72.32  ...         8189  14.2  1684558800       227            8.0   \n",
      "140     79.52  ...         8234  17.8  1684645200       175            6.0   \n",
      "..        ...  ...          ...   ...         ...       ...            ...   \n",
      "253     72.50  ...         2473  15.1  1694408400       297            6.4   \n",
      "254     65.30  ...         4754  13.6  1694494800       242           10.0   \n",
      "255     65.48  ...         5608  11.9  1694581200        90            6.4   \n",
      "256     81.86  ...         4601  18.3  1694667600       167           11.2   \n",
      "257     77.18  ...         1932  18.1  1694754000       232           10.0   \n",
      "\n",
      "     wind_spd  latitude  longitude    GDD  Cumulative_GDD  \n",
      "136       3.0    45.344    -93.852  10.08           10.08  \n",
      "137       2.8    45.344    -93.852  10.98           21.06  \n",
      "138       3.9    45.344    -93.852   5.58           26.64  \n",
      "139       2.0    45.344    -93.852  11.16           37.80  \n",
      "140       1.8    45.344    -93.852  14.76           52.56  \n",
      "..        ...       ...        ...    ...             ...  \n",
      "253       1.5    45.344    -93.852  11.25         2382.21  \n",
      "254       2.6    45.344    -93.852   7.65         2389.86  \n",
      "255       1.6    45.344    -93.852   7.74         2397.60  \n",
      "256       2.4    45.344    -93.852  16.11         2413.71  \n",
      "257       1.8    45.344    -93.852  14.58         2428.29  \n",
      "\n",
      "[122 rows x 39 columns]\n"
     ]
    }
   ],
   "source": [
    "corn_gdd_BeckerGEMS = Becker_GEMS_2023.con_gdd(start_date, end_date)\n",
    "print(corn_gdd_BeckerGEMS)"
   ]
  },
  {
   "cell_type": "code",
   "execution_count": null,
   "id": "2259a227-1288-45e3-bf97-97415ff81824",
   "metadata": {},
   "outputs": [],
   "source": []
  }
 ],
 "metadata": {
  "kernelspec": {
   "display_name": "Python 3 (ipykernel)",
   "language": "python",
   "name": "python3"
  },
  "language_info": {
   "codemirror_mode": {
    "name": "ipython",
    "version": 3
   },
   "file_extension": ".py",
   "mimetype": "text/x-python",
   "name": "python",
   "nbconvert_exporter": "python",
   "pygments_lexer": "ipython3",
   "version": "3.9.7"
  }
 },
 "nbformat": 4,
 "nbformat_minor": 5
}
