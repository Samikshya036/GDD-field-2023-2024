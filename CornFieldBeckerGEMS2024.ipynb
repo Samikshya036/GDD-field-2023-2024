{
 "cells": [
  {
   "cell_type": "code",
   "execution_count": 1,
   "id": "b7150bd2-544a-462c-a267-133e19ce020e",
   "metadata": {},
   "outputs": [],
   "source": [
    "#GDD calculation for corn from class CornGDD 2024. \n",
    "import pandas as pd\n",
    "\n",
    "def fahrenheit_to_celsius(temp_f):\n",
    "    return (temp_f - 32) * 5 / 9\n",
    "\n",
    "def celsius_to_fahrenheit(temp_c):\n",
    "    return (temp_c * 9 / 5) + 32\n",
    "\n",
    "class CornGDD:\n",
    "    def __init__(self, daily_temp_df, time_column, min_temp_column, max_temp_column, celsius=True):\n",
    "        self.daily_temp_df = daily_temp_df\n",
    "        self.time_column = time_column\n",
    "        self.min_temp_column = min_temp_column\n",
    "        self.max_temp_column = max_temp_column\n",
    "        self.celsius = celsius\n",
    "\n",
    "        # Ensure the time column is of datetime type\n",
    "        self.daily_temp_df[self.time_column] = pd.to_datetime(self.daily_temp_df[self.time_column])\n",
    "\n",
    "        # If initial data is in Celsius, optionally convert it to Fahrenheit for uniform GDD calculation\n",
    "        if self.celsius:\n",
    "            self.daily_temp_df[self.min_temp_column] = self.daily_temp_df[self.min_temp_column].apply(celsius_to_fahrenheit)\n",
    "            self.daily_temp_df[self.max_temp_column] = self.daily_temp_df[self.max_temp_column].apply(celsius_to_fahrenheit)\n",
    "            self.celsius = False  # Now all data is in Fahrenheit\n",
    "\n",
    "    def con_gdd(self, start_date, end_date):\n",
    "        start_date = pd.Timestamp(start_date)\n",
    "        end_date = pd.Timestamp(end_date)\n",
    "\n",
    "        date_mask = (self.daily_temp_df[self.time_column] >= start_date) & (self.daily_temp_df[self.time_column] <= end_date)\n",
    "        masked_data = self.daily_temp_df.loc[date_mask].copy()\n",
    "\n",
    "        gdd_values = []\n",
    "        cumulative_gdd = 0\n",
    "\n",
    "        for index, row in masked_data.iterrows():\n",
    "            min_temp = max(row[self.min_temp_column], 50)  # Fahrenheit base\n",
    "            max_temp = min(row[self.max_temp_column], 86)  # Fahrenheit upper limit\n",
    "\n",
    "            mean_temp = (min_temp + max_temp) / 2\n",
    "            base_temp = 50  # Fahrenheit base temperature for GDD calculation\n",
    "            gdd = max(mean_temp - base_temp, 0)\n",
    "\n",
    "            gdd_values.append(gdd)\n",
    "            cumulative_gdd += gdd\n",
    "\n",
    "        masked_data['GDD'] = gdd_values\n",
    "        masked_data['Cumulative_GDD'] = masked_data['GDD'].cumsum()\n",
    "\n",
    "        return masked_data\n",
    "\n",
    "# This modified class converts temperatures to Fahrenheit if they start in Celsius, then computes and returns GDD in Fahrenheit.\n"
   ]
  },
  {
   "cell_type": "markdown",
   "id": "733eae66-83ae-4a22-be06-d4d458025517",
   "metadata": {},
   "source": [
    "Using CSV values from GEMS exchange Min/Max temp 2023 and 2024 for Becker"
   ]
  },
  {
   "cell_type": "code",
   "execution_count": 4,
   "id": "10034f59-6ffb-41d7-9ed9-73ca248c81a1",
   "metadata": {},
   "outputs": [],
   "source": [
    "import pandas as pd\n",
    "Becker_GEMS = pd.read_csv(\"becker_gems_2023_2024.csv\", on_bad_lines='skip')"
   ]
  },
  {
   "cell_type": "code",
   "execution_count": 5,
   "id": "67974408-6a7c-4bb8-90ee-755a29c5ffe4",
   "metadata": {},
   "outputs": [],
   "source": [
    "Becker_GEMS_2024 = CornGDD(Becker_GEMS, time_column='datetime', min_temp_column='min_temp', max_temp_column='max_temp')"
   ]
  },
  {
   "cell_type": "code",
   "execution_count": 6,
   "id": "2e66f4fa-3f8d-43ed-a7a2-9d5567a326e1",
   "metadata": {},
   "outputs": [],
   "source": [
    "#Using year 2024 start date and end date for mine gdd\n",
    "start_date = pd.to_datetime(\"5-1-2024\").date()\n",
    "end_date = pd.to_datetime(\"10-17-2024\").date()"
   ]
  },
  {
   "cell_type": "markdown",
   "id": "69fc2464-1911-40a9-ae2a-7dca4e98eae9",
   "metadata": {},
   "source": [
    "Calculating Corn AGDD for Becker 2024"
   ]
  },
  {
   "cell_type": "code",
   "execution_count": 7,
   "id": "d5e12966-915b-4a7a-b296-ddacdc6a7ed4",
   "metadata": {},
   "outputs": [
    {
     "name": "stdout",
     "output_type": "stream",
     "text": [
      "     clouds   datetime  dewpt  dhi  dni  ghi  max_dhi  max_dni  max_ghi  \\\n",
      "486      75 2024-05-01    5.7   53  429  314      119      917      905   \n",
      "487      92 2024-05-02    7.8   53  431  316      119      917      908   \n",
      "488      28 2024-05-03    4.3   53  432  317      119      917      911   \n",
      "489      71 2024-05-04    4.8   53  433  319      119      917      913   \n",
      "490      13 2024-05-05    2.5   54  435  321      120      918      916   \n",
      "..      ...        ...    ...  ...  ...  ...      ...      ...      ...   \n",
      "651      60 2024-10-13    1.9   36  302  163      102      838      596   \n",
      "652      21 2024-10-14   -0.1   35  299  161      102      836      590   \n",
      "653      18 2024-10-15   -0.8   35  297  159      102      834      584   \n",
      "654       0 2024-10-16   -4.2   35  295  156      101      832      578   \n",
      "655       0 2024-10-17   -3.2   34  292  154      101      830      573   \n",
      "\n",
      "     max_temp  ...  t_solar_rad  temp          ts  wind_dir  wind_gust_spd  \\\n",
      "486     62.60  ...         5108  12.6  1714539600       268           10.4   \n",
      "487     54.14  ...         1055  10.8  1714626000       130            9.2   \n",
      "488     66.74  ...         6187  12.4  1714712400       243            9.6   \n",
      "489     62.78  ...         3409  11.0  1714798800       295           10.0   \n",
      "490     68.00  ...         7693  13.2  1714885200       227            5.6   \n",
      "..        ...  ...          ...   ...         ...       ...            ...   \n",
      "651     54.32  ...         2431   9.3  1728795600       303           13.8   \n",
      "652     50.90  ...         2114   5.6  1728882000       295            8.4   \n",
      "653     53.96  ...         3261   4.9  1728968400        95            7.6   \n",
      "654     60.80  ...         3733   7.2  1729054800       166           10.4   \n",
      "655     70.88  ...         3694  14.0  1729141200       171           11.4   \n",
      "\n",
      "     wind_spd  latitude  longitude    GDD  Cumulative_GDD  \n",
      "486       3.9    45.344    -93.852   6.30            6.30  \n",
      "487       2.7    45.344    -93.852   2.07            8.37  \n",
      "488       2.9    45.344    -93.852   8.37           16.74  \n",
      "489       2.9    45.344    -93.852   6.39           23.13  \n",
      "490       1.7    45.344    -93.852   9.00           32.13  \n",
      "..        ...       ...        ...    ...             ...  \n",
      "651       5.6    45.344    -93.852   2.16         2823.30  \n",
      "652       2.6    45.344    -93.852   0.45         2823.75  \n",
      "653       2.0    45.344    -93.852   1.98         2825.73  \n",
      "654       2.7    45.344    -93.852   5.40         2831.13  \n",
      "655       4.7    45.344    -93.852  10.44         2841.57  \n",
      "\n",
      "[170 rows x 39 columns]\n"
     ]
    }
   ],
   "source": [
    "corn_gdd_BeckerGEMS = Becker_GEMS_2024.con_gdd(start_date, end_date)\n",
    "print(corn_gdd_BeckerGEMS)"
   ]
  },
  {
   "cell_type": "code",
   "execution_count": null,
   "id": "d445eed9-0eb0-4282-97c7-0589b74ec5f7",
   "metadata": {},
   "outputs": [],
   "source": []
  }
 ],
 "metadata": {
  "kernelspec": {
   "display_name": "Python 3 (ipykernel)",
   "language": "python",
   "name": "python3"
  },
  "language_info": {
   "codemirror_mode": {
    "name": "ipython",
    "version": 3
   },
   "file_extension": ".py",
   "mimetype": "text/x-python",
   "name": "python",
   "nbconvert_exporter": "python",
   "pygments_lexer": "ipython3",
   "version": "3.9.7"
  }
 },
 "nbformat": 4,
 "nbformat_minor": 5
}
