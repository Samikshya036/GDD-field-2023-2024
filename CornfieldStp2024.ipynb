{
 "cells": [
  {
   "cell_type": "code",
   "execution_count": 1,
   "id": "ff035edc-ccd5-4ef2-8103-f86196088b98",
   "metadata": {},
   "outputs": [],
   "source": [
    "#GDD calculation for corn from class CornGDD. \n",
    "import pandas as pd\n",
    "\n",
    "def fahrenheit_to_celsius(temp_f):\n",
    "    return (temp_f - 32) * 5 / 9\n",
    "\n",
    "def celsius_to_fahrenheit(temp_c):\n",
    "    return (temp_c * 9 / 5) + 32\n",
    "\n",
    "class CornGDD:\n",
    "    def __init__(self, daily_temp_df, time_column, min_temp_column, max_temp_column, celsius=True):\n",
    "        self.daily_temp_df = daily_temp_df\n",
    "        self.time_column = time_column\n",
    "        self.min_temp_column = min_temp_column\n",
    "        self.max_temp_column = max_temp_column\n",
    "        self.celsius = celsius\n",
    "\n",
    "        # Ensure the time column is of datetime type\n",
    "        self.daily_temp_df[self.time_column] = pd.to_datetime(self.daily_temp_df[self.time_column])\n",
    "\n",
    "        # If initial data is in Celsius, optionally convert it to Fahrenheit for uniform GDD calculation\n",
    "        if self.celsius:\n",
    "            self.daily_temp_df[self.min_temp_column] = self.daily_temp_df[self.min_temp_column].apply(celsius_to_fahrenheit)\n",
    "            self.daily_temp_df[self.max_temp_column] = self.daily_temp_df[self.max_temp_column].apply(celsius_to_fahrenheit)\n",
    "            self.celsius = False  # Now all data is in Fahrenheit\n",
    "\n",
    "    def con_gdd(self, start_date, end_date):\n",
    "        start_date = pd.Timestamp(start_date)\n",
    "        end_date = pd.Timestamp(end_date)\n",
    "\n",
    "        date_mask = (self.daily_temp_df[self.time_column] >= start_date) & (self.daily_temp_df[self.time_column] <= end_date)\n",
    "        masked_data = self.daily_temp_df.loc[date_mask].copy()\n",
    "\n",
    "        gdd_values = []\n",
    "        cumulative_gdd = 0\n",
    "\n",
    "        for index, row in masked_data.iterrows():\n",
    "            min_temp = max(row[self.min_temp_column], 50)  # Fahrenheit base\n",
    "            max_temp = min(row[self.max_temp_column], 86)  # Fahrenheit upper limit\n",
    "\n",
    "            mean_temp = (min_temp + max_temp) / 2\n",
    "            base_temp = 50  # Fahrenheit base temperature for GDD calculation\n",
    "            gdd = max(mean_temp - base_temp, 0)\n",
    "\n",
    "            gdd_values.append(gdd)\n",
    "            cumulative_gdd += gdd\n",
    "\n",
    "        masked_data['GDD'] = gdd_values\n",
    "        masked_data['Cumulative_GDD'] = masked_data['GDD'].cumsum()\n",
    "\n",
    "        return masked_data\n",
    "\n",
    "# This modified class converts temperatures to Fahrenheit if they start in Celsius, then computes and returns GDD in Fahrenheit.\n"
   ]
  },
  {
   "cell_type": "markdown",
   "id": "aba31d04-5830-4d10-a4fb-021725d07548",
   "metadata": {},
   "source": [
    "Min / Max temp to calculate GDD for Saint Paul 2024. Here we used GEMS exchage data to calculate GDD"
   ]
  },
  {
   "cell_type": "code",
   "execution_count": 5,
   "id": "bb696a2a-cf67-4ab1-b117-fd10c8b91641",
   "metadata": {},
   "outputs": [],
   "source": [
    "import pandas as pd\n",
    "StPaul_GEMS = pd.read_csv(\"st_paul_gems_2023_2024.csv\", on_bad_lines='skip')"
   ]
  },
  {
   "cell_type": "code",
   "execution_count": 6,
   "id": "6740bc9f-da69-431e-9861-4df03f315e40",
   "metadata": {},
   "outputs": [],
   "source": [
    "StPaul_GEMS_2024 = CornGDD(StPaul_GEMS, time_column='datetime', min_temp_column='min_temp', max_temp_column='max_temp')"
   ]
  },
  {
   "cell_type": "code",
   "execution_count": 9,
   "id": "c62bfbc5-7653-4e61-ab24-87efaff8cc0b",
   "metadata": {},
   "outputs": [],
   "source": [
    "#Using year 2024 start date and end date for mine gdd\n",
    "start_date = pd.to_datetime(\"5-15-2024\").date()\n",
    "end_date = pd.to_datetime(\"10-21-2024\").date()"
   ]
  },
  {
   "cell_type": "markdown",
   "id": "ef31e452-ca71-4c80-861b-a3b9194c72c6",
   "metadata": {},
   "source": [
    "Calculating AGDD for corn SaintPaul 2024"
   ]
  },
  {
   "cell_type": "code",
   "execution_count": 10,
   "id": "c468c810-c4d1-4806-ab60-051a32e7cf5b",
   "metadata": {},
   "outputs": [
    {
     "name": "stdout",
     "output_type": "stream",
     "text": [
      "     clouds   datetime  dewpt  dhi  dni  ghi  max_dhi  max_dni  max_ghi  \\\n",
      "500      64 2024-05-15    6.6   56  448  336      121      920      940   \n",
      "501      77 2024-05-16   10.6   56  449  337      121      920      942   \n",
      "502      47 2024-05-17   11.1   56  450  339      121      920      943   \n",
      "503      44 2024-05-18   10.9   56  451  340      121      920      945   \n",
      "504      64 2024-05-19    5.1   56  452  341      121      920      946   \n",
      "..      ...        ...    ...  ...  ...  ...      ...      ...      ...   \n",
      "655       0 2024-10-17   -3.6   35  293  156      101      832      578   \n",
      "656      26 2024-10-18    0.9   34  291  153      101      830      573   \n",
      "657      86 2024-10-19    4.7   34  288  151      101      828      567   \n",
      "658      30 2024-10-20   10.4   34  286  149      100      826      561   \n",
      "659      45 2024-10-21    7.8   33  283  147      100      824      555   \n",
      "\n",
      "     max_temp  ...  t_solar_rad  temp          ts  wind_dir  wind_gust_spd  \\\n",
      "500     71.96  ...         4746  17.0  1715749200       123           10.3   \n",
      "501     69.08  ...         4387  16.9  1715835600       248           13.4   \n",
      "502     84.92  ...         7625  19.9  1715922000       175           17.0   \n",
      "503     80.96  ...         8020  21.9  1716008400       232           14.6   \n",
      "504     71.06  ...         2156  17.5  1716094800       187            9.8   \n",
      "..        ...  ...          ...   ...         ...       ...            ...   \n",
      "655     71.06  ...         3737  14.2  1729141200       169           15.1   \n",
      "656     73.94  ...         3652  16.8  1729227600       166           12.1   \n",
      "657     69.08  ...         2742  17.7  1729314000       225           11.5   \n",
      "658     80.96  ...         3573  19.7  1729400400       235           12.8   \n",
      "659     84.02  ...         2256  22.5  1729486800       193           12.1   \n",
      "\n",
      "     wind_spd  latitude  longitude    GDD  Cumulative_GDD  \n",
      "500       3.8    44.993    -93.175  11.52           11.52  \n",
      "501       3.9    44.993    -93.175  13.05           24.57  \n",
      "502       4.0    44.993    -93.175  19.98           44.55  \n",
      "503       6.2    44.993    -93.175  21.87           66.42  \n",
      "504       3.0    44.993    -93.175  12.51           78.93  \n",
      "..        ...       ...        ...    ...             ...  \n",
      "655       6.8    44.993    -93.175  10.53         2968.20  \n",
      "656       5.5    44.993    -93.175  11.97         2980.17  \n",
      "657       3.6    44.993    -93.175  14.58         2994.75  \n",
      "658       3.7    44.993    -93.175  18.00         3012.75  \n",
      "659       4.1    44.993    -93.175  24.48         3037.23  \n",
      "\n",
      "[160 rows x 39 columns]\n"
     ]
    }
   ],
   "source": [
    "corn_gdd_StPaulGEMS = StPaul_GEMS_2024.con_gdd(start_date, end_date)\n",
    "print(corn_gdd_StPaulGEMS)"
   ]
  },
  {
   "cell_type": "code",
   "execution_count": null,
   "id": "38f73bee-b7e8-48ef-ab6b-0a2b8dbdd295",
   "metadata": {},
   "outputs": [],
   "source": []
  }
 ],
 "metadata": {
  "kernelspec": {
   "display_name": "Python 3 (ipykernel)",
   "language": "python",
   "name": "python3"
  },
  "language_info": {
   "codemirror_mode": {
    "name": "ipython",
    "version": 3
   },
   "file_extension": ".py",
   "mimetype": "text/x-python",
   "name": "python",
   "nbconvert_exporter": "python",
   "pygments_lexer": "ipython3",
   "version": "3.9.7"
  }
 },
 "nbformat": 4,
 "nbformat_minor": 5
}
